{
 "cells": [
  {
   "cell_type": "code",
   "execution_count": 1,
   "metadata": {},
   "outputs": [
    {
     "name": "stdout",
     "output_type": "stream",
     "text": [
      "2.0000   2 -8 3.77\n"
     ]
    }
   ],
   "source": [
    "a = 2\n",
    "b = '3.77'\n",
    "c = -8\n",
    "s = '{0:.4f} {0:3d} {2} {1}'.format(a, b, c) \n",
    "print(s) \n"
   ]
  },
  {
   "cell_type": "markdown",
   "metadata": {},
   "source": [
    "\n",
    "### explanation:\n",
    "```python\n",
    "a = 2  # integer\n",
    "b = '3.77'  # string\n",
    "c = -8  # integer\n",
    "## The `format()` Function Uses Indexed Placeholders:\n",
    "\n",
    "- `{0:.4f}` → Formats `a` (which is `2`) as a floating-point number with **4 decimal places**  \n",
    "  **Result:** `\"2.0000\"`\n",
    "- `{0:3d}` → Formats `a` as an **integer with width 3**, so it gets **right-aligned with spaces**  \n",
    "  **Result:** `\"  2\"`\n",
    "- `{2}` → Simply replaces it with `c`, which is `-8`\n",
    "- `{1}` → Replaces it with `b`, which is `\"3.77\"`\n",
    "\n",
    "\n"
   ]
  }
 ],
 "metadata": {
  "kernelspec": {
   "display_name": "Python 3",
   "language": "python",
   "name": "python3"
  },
  "language_info": {
   "codemirror_mode": {
    "name": "ipython",
    "version": 3
   },
   "file_extension": ".py",
   "mimetype": "text/x-python",
   "name": "python",
   "nbconvert_exporter": "python",
   "pygments_lexer": "ipython3",
   "version": "3.13.1"
  }
 },
 "nbformat": 4,
 "nbformat_minor": 2
}
